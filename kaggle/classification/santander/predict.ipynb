{
 "cells": [
  {
   "cell_type": "markdown",
   "metadata": {},
   "source": [
    "\n",
    "https://www.kaggle.com/c/santander-customer-satisfaction\n",
    "\n",
    "\n"
   ]
  },
  {
   "cell_type": "code",
   "execution_count": 2,
   "metadata": {
    "collapsed": false
   },
   "outputs": [
    {
     "name": "stdout",
     "output_type": "stream",
     "text": [
      "Loaded data:  (76020, 371)\n",
      "Cleaned constants:  (76020, 337)\n",
      "Cleaned dups:  (76020, 308)\n"
     ]
    }
   ],
   "source": [
    "import pandas as pd\n",
    "import numpy as np\n",
    "import seaborn as sns\n",
    "import matplotlib.pyplot as plt\n",
    "from sklearn.metrics import roc_auc_score\n",
    "from sklearn.cross_validation import train_test_split, cross_val_score\n",
    "\n",
    "# cleaners\n",
    "\n",
    "def clean_constants(data):\n",
    "    remove = []\n",
    "    for col in data.columns:\n",
    "        if data[col].std() == 0:\n",
    "            remove.append(col)\n",
    "    return data.drop(remove, axis=1)\n",
    "\n",
    "def clean_duplicated(data):\n",
    "    remove = []\n",
    "    columns = data.columns\n",
    "    for i in range(len(columns)-1):\n",
    "        values = data[columns[i]].values\n",
    "        for j in range(i+1,len(columns)):\n",
    "            if np.array_equal(values, data[columns[j]].values):\n",
    "                remove.append(columns[j])\n",
    "    return data.drop(remove, axis=1)\n",
    "\n",
    "def export(data, predictions, path):\n",
    "    export = pd.DataFrame({ \"ID\": data['ID'], \"TARGET\": predictions })\n",
    "    export.to_csv(\"./predictions.csv\", index=False)   \n",
    "\n",
    "    \n",
    "# model\n",
    "\n",
    "test  = pd.read_csv(\"./test.csv\")\n",
    "train = pd.read_csv(\"./train.csv\")\n",
    "\n",
    "print \"Loaded data: \", train.shape\n",
    "\n",
    "train = clean_constants(train)\n",
    "print \"Cleaned constants: \", train.shape\n",
    "\n",
    "train = clean_duplicated(train)\n",
    "print \"Cleaned dups: \", train.shape\n",
    "\n",
    "features = train.columns[(train.columns != 'TARGET') & (train.columns != 'ID')]\n",
    "\n"
   ]
  },
  {
   "cell_type": "markdown",
   "metadata": {},
   "source": [
    "### DecisionTree"
   ]
  },
  {
   "cell_type": "code",
   "execution_count": 3,
   "metadata": {
    "collapsed": false
   },
   "outputs": [
    {
     "name": "stdout",
     "output_type": "stream",
     "text": [
      "Starting...\n",
      "0: 0.813482 +- 0.020543\n",
      "1: 0.811429 +- 0.016863\n",
      "2: 0.811543 +- 0.020739\n",
      "3: 0.815288 +- 0.017613\n",
      "4: 0.815949 +- 0.014824\n",
      "5: 0.803798 +- 0.021053\n",
      "6: 0.814394 +- 0.022809\n",
      "7: 0.813517 +- 0.017097\n",
      "8: 0.812993 +- 0.019044\n",
      "9: 0.814533 +- 0.026988\n"
     ]
    }
   ],
   "source": [
    "from sklearn import tree\n",
    "\n",
    "args  = [\n",
    "    [.65, 7],\n",
    "    [.7,  7],\n",
    "    [.75, 7],\n",
    "    [.85, 7],\n",
    "    [.9,  7],\n",
    "    \n",
    "    [.8,  4],\n",
    "    [.8,  5],\n",
    "    [.8,  6],\n",
    "    [.8,  7],\n",
    "    [.8,  8],\n",
    "]\n",
    "\n",
    "print \"Starting...\"\n",
    "for i in range(0, len(args)):\n",
    "    clf    = tree.DecisionTreeClassifier(max_features=args[i][0], max_depth=args[i][1])\n",
    "    scores = cross_val_score(clf, train[features], train.TARGET, cv=5, scoring='roc_auc')\n",
    "    print \"%i: %f +- %f\" % (i, scores.mean(), scores.std()*2)"
   ]
  },
  {
   "cell_type": "markdown",
   "metadata": {},
   "source": [
    "### AdaBoost"
   ]
  },
  {
   "cell_type": "code",
   "execution_count": 11,
   "metadata": {
    "collapsed": false
   },
   "outputs": [
    {
     "name": "stdout",
     "output_type": "stream",
     "text": [
      "Starting...\n",
      "0: 0.832366 +- 0.013132\n",
      "1: 0.832376 +- 0.012151\n",
      "2: 0.832387 +- 0.012229\n",
      "3: 0.832726 +- 0.013069\n",
      "4: 0.832200 +- 0.012924\n"
     ]
    }
   ],
   "source": [
    "from sklearn.ensemble import AdaBoostClassifier\n",
    "\n",
    "args  = [\n",
    "    [65, .33],\n",
    "    [65, .35],\n",
    "    [65, .37],\n",
    "    [65, .39],\n",
    "    [65, .41],\n",
    "]\n",
    "\n",
    "print \"Starting...\"\n",
    "for i in range(0, len(args)):\n",
    "    clf    = AdaBoostClassifier(n_estimators=args[i][0], learning_rate=args[i][1])\n",
    "    scores = cross_val_score(clf, train[features], train.TARGET, cv=5, scoring='roc_auc', n_jobs=-1)\n",
    "    print \"%i: %f +- %f\" % (i, scores.mean(), scores.std()*2)"
   ]
  },
  {
   "cell_type": "markdown",
   "metadata": {},
   "source": [
    "### Gradient"
   ]
  },
  {
   "cell_type": "code",
   "execution_count": 10,
   "metadata": {
    "collapsed": false
   },
   "outputs": [
    {
     "name": "stdout",
     "output_type": "stream",
     "text": [
      "Starting...\n",
      "0: 0.835969 +- 0.018303\n"
     ]
    }
   ],
   "source": [
    "from sklearn.ensemble import GradientBoostingClassifier\n",
    "\n",
    "args  = [\n",
    "    [5, 0.03, 350],\n",
    "]\n",
    "\n",
    "print \"Starting...\"\n",
    "for i in range(0, len(args)):\n",
    "    clf    = GradientBoostingClassifier(max_depth=args[i][0], learning_rate=args[i][1], n_estimators=args[i][2])\n",
    "    scores = cross_val_score(clf, train[features], train.TARGET, cv=5, scoring='roc_auc', n_jobs=-1)\n",
    "    print \"%i: %f +- %f\" % (i, scores.mean(), scores.std()*2)\n"
   ]
  },
  {
   "cell_type": "markdown",
   "metadata": {},
   "source": [
    "### Model"
   ]
  },
  {
   "cell_type": "code",
   "execution_count": 12,
   "metadata": {
    "collapsed": false
   },
   "outputs": [
    {
     "name": "stdout",
     "output_type": "stream",
     "text": [
      "4: 0.832726 +- 0.013069\n"
     ]
    }
   ],
   "source": [
    "from sklearn.ensemble import AdaBoostClassifier\n",
    "\n",
    "# clf = GradientBoostingClassifier(max_depth=3, learning_rate=1, n_estimators=100)\n",
    "clf = AdaBoostClassifier(n_estimators=65, learning_rate=.39)\n",
    "\n",
    "scores = cross_val_score(clf, train[features], train.TARGET, cv=5, scoring='roc_auc')\n",
    "print \"%i: %f +- %f\" % (i, scores.mean(), scores.std()*2)\n",
    "\n",
    "clf = clf.fit(train[features], train['TARGET'])\n",
    "res = clf.predict_proba(test[features])[:,1]\n",
    "export(test, res, \"./predictions.csv\")\n"
   ]
  },
  {
   "cell_type": "code",
   "execution_count": null,
   "metadata": {
    "collapsed": true
   },
   "outputs": [],
   "source": []
  }
 ],
 "metadata": {
  "kernelspec": {
   "display_name": "Python 3",
   "language": "python",
   "name": "python3"
  },
  "language_info": {
   "codemirror_mode": {
    "name": "ipython",
    "version": 3
   },
   "file_extension": ".py",
   "mimetype": "text/x-python",
   "name": "python",
   "nbconvert_exporter": "python",
   "pygments_lexer": "ipython3",
   "version": "3.4.3"
  }
 },
 "nbformat": 4,
 "nbformat_minor": 0
}
