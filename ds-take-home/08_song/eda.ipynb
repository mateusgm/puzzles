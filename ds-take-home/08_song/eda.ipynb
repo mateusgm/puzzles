{
 "cells": [
  {
   "cell_type": "markdown",
   "metadata": {},
   "source": [
    "What are the top 3 and the bottom 3 states in terms of number of users?\n",
    "\n",
    "What are the top 3 and the bottom 3 states in terms of user engagement? You can choose how to mathematically define user engagement. What the CEO cares about here is in which states users are using the product a lot/very little.\n",
    "\n",
    "The CEO wants to send a gift to the first user who signed-up for each state. That is, the first user who signed-up from California, from Oregon, etc. Can you give him a list of those users?\n",
    "\n",
    "Build a function that takes as an input any of the songs in the data and returns the most likely song to be listened next. That is, if, for instance, a user is currently listening to \"Eight Days A Week\", which song has the highest probability of being played right after it by the same user? This is going to be v1 of a song recommendation model.\n",
    "\n",
    "How would you set up a test to check whether your model works well and is improving engagement?"
   ]
  },
  {
   "cell_type": "code",
   "execution_count": 3,
   "metadata": {
    "collapsed": false
   },
   "outputs": [],
   "source": [
    "import pandas as pd\n",
    "\n",
    "data = pd.read_json('song.json', orient='records')\n",
    "data['user_id']           = data['user_id'].astype('string')\n",
    "data['time_played']       = pd.to_datetime(data['time_played'])\n",
    "data['user_sign_up_date'] = pd.to_datetime(data['user_sign_up_date'])"
   ]
  },
  {
   "cell_type": "code",
   "execution_count": 4,
   "metadata": {
    "collapsed": false
   },
   "outputs": [
    {
     "data": {
      "text/html": [
       "<div>\n",
       "<table border=\"1\" class=\"dataframe\">\n",
       "  <thead>\n",
       "    <tr style=\"text-align: right;\">\n",
       "      <th></th>\n",
       "      <th>id</th>\n",
       "      <th>song_played</th>\n",
       "      <th>time_played</th>\n",
       "      <th>user_id</th>\n",
       "      <th>user_sign_up_date</th>\n",
       "      <th>user_state</th>\n",
       "    </tr>\n",
       "  </thead>\n",
       "  <tbody>\n",
       "    <tr>\n",
       "      <th>0</th>\n",
       "      <td>GOQMMKSQQH</td>\n",
       "      <td>Hey Jude</td>\n",
       "      <td>2015-06-11 21:51:35</td>\n",
       "      <td>122</td>\n",
       "      <td>2015-05-16</td>\n",
       "      <td>Louisiana</td>\n",
       "    </tr>\n",
       "    <tr>\n",
       "      <th>1</th>\n",
       "      <td>HWKKBQKNWI</td>\n",
       "      <td>We Can Work It Out</td>\n",
       "      <td>2015-06-06 16:49:19</td>\n",
       "      <td>3</td>\n",
       "      <td>2015-05-01</td>\n",
       "      <td>Ohio</td>\n",
       "    </tr>\n",
       "    <tr>\n",
       "      <th>2</th>\n",
       "      <td>DKQSXVNJDH</td>\n",
       "      <td>Back In the U.S.S.R.</td>\n",
       "      <td>2015-06-14 02:11:29</td>\n",
       "      <td>35</td>\n",
       "      <td>2015-05-04</td>\n",
       "      <td>New Jersey</td>\n",
       "    </tr>\n",
       "    <tr>\n",
       "      <th>3</th>\n",
       "      <td>HLHRIDQTUW</td>\n",
       "      <td>P.s. I Love You</td>\n",
       "      <td>2015-06-08 12:26:10</td>\n",
       "      <td>126</td>\n",
       "      <td>2015-05-16</td>\n",
       "      <td>Illinois</td>\n",
       "    </tr>\n",
       "    <tr>\n",
       "      <th>4</th>\n",
       "      <td>SUKJCSBCYW</td>\n",
       "      <td>Sgt. Pepper's Lonely Hearts Club Band</td>\n",
       "      <td>2015-06-28 14:57:00</td>\n",
       "      <td>6</td>\n",
       "      <td>2015-05-01</td>\n",
       "      <td>New Jersey</td>\n",
       "    </tr>\n",
       "  </tbody>\n",
       "</table>\n",
       "</div>"
      ],
      "text/plain": [
       "           id                            song_played         time_played  \\\n",
       "0  GOQMMKSQQH                               Hey Jude 2015-06-11 21:51:35   \n",
       "1  HWKKBQKNWI                     We Can Work It Out 2015-06-06 16:49:19   \n",
       "2  DKQSXVNJDH                   Back In the U.S.S.R. 2015-06-14 02:11:29   \n",
       "3  HLHRIDQTUW                        P.s. I Love You 2015-06-08 12:26:10   \n",
       "4  SUKJCSBCYW  Sgt. Pepper's Lonely Hearts Club Band 2015-06-28 14:57:00   \n",
       "\n",
       "  user_id user_sign_up_date  user_state  \n",
       "0     122        2015-05-16   Louisiana  \n",
       "1       3        2015-05-01        Ohio  \n",
       "2      35        2015-05-04  New Jersey  \n",
       "3     126        2015-05-16    Illinois  \n",
       "4       6        2015-05-01  New Jersey  "
      ]
     },
     "execution_count": 4,
     "metadata": {},
     "output_type": "execute_result"
    }
   ],
   "source": [
    "data.head()"
   ]
  },
  {
   "cell_type": "code",
   "execution_count": 5,
   "metadata": {
    "collapsed": false
   },
   "outputs": [
    {
     "data": {
      "text/html": [
       "<div>\n",
       "<table border=\"1\" class=\"dataframe\">\n",
       "  <thead>\n",
       "    <tr style=\"text-align: right;\">\n",
       "      <th></th>\n",
       "      <th>id</th>\n",
       "      <th>song_played</th>\n",
       "      <th>time_played</th>\n",
       "      <th>user_id</th>\n",
       "      <th>user_sign_up_date</th>\n",
       "      <th>user_state</th>\n",
       "    </tr>\n",
       "  </thead>\n",
       "  <tbody>\n",
       "    <tr>\n",
       "      <th>count</th>\n",
       "      <td>4000</td>\n",
       "      <td>4000</td>\n",
       "      <td>4000</td>\n",
       "      <td>4000</td>\n",
       "      <td>4000</td>\n",
       "      <td>4000</td>\n",
       "    </tr>\n",
       "    <tr>\n",
       "      <th>unique</th>\n",
       "      <td>4000</td>\n",
       "      <td>100</td>\n",
       "      <td>3997</td>\n",
       "      <td>196</td>\n",
       "      <td>20</td>\n",
       "      <td>41</td>\n",
       "    </tr>\n",
       "    <tr>\n",
       "      <th>top</th>\n",
       "      <td>SGBIQPZCAE</td>\n",
       "      <td>Come Together</td>\n",
       "      <td>2015-06-06 08:42:20</td>\n",
       "      <td>42</td>\n",
       "      <td>2015-05-19 00:00:00</td>\n",
       "      <td>New York</td>\n",
       "    </tr>\n",
       "    <tr>\n",
       "      <th>freq</th>\n",
       "      <td>1</td>\n",
       "      <td>408</td>\n",
       "      <td>2</td>\n",
       "      <td>52</td>\n",
       "      <td>532</td>\n",
       "      <td>469</td>\n",
       "    </tr>\n",
       "    <tr>\n",
       "      <th>first</th>\n",
       "      <td>NaN</td>\n",
       "      <td>NaN</td>\n",
       "      <td>2015-06-01 05:02:54</td>\n",
       "      <td>NaN</td>\n",
       "      <td>2015-05-01 00:00:00</td>\n",
       "      <td>NaN</td>\n",
       "    </tr>\n",
       "    <tr>\n",
       "      <th>last</th>\n",
       "      <td>NaN</td>\n",
       "      <td>NaN</td>\n",
       "      <td>2015-06-28 23:46:06</td>\n",
       "      <td>NaN</td>\n",
       "      <td>2015-05-20 00:00:00</td>\n",
       "      <td>NaN</td>\n",
       "    </tr>\n",
       "  </tbody>\n",
       "</table>\n",
       "</div>"
      ],
      "text/plain": [
       "                id    song_played          time_played user_id  \\\n",
       "count         4000           4000                 4000    4000   \n",
       "unique        4000            100                 3997     196   \n",
       "top     SGBIQPZCAE  Come Together  2015-06-06 08:42:20      42   \n",
       "freq             1            408                    2      52   \n",
       "first          NaN            NaN  2015-06-01 05:02:54     NaN   \n",
       "last           NaN            NaN  2015-06-28 23:46:06     NaN   \n",
       "\n",
       "          user_sign_up_date user_state  \n",
       "count                  4000       4000  \n",
       "unique                   20         41  \n",
       "top     2015-05-19 00:00:00   New York  \n",
       "freq                    532        469  \n",
       "first   2015-05-01 00:00:00        NaN  \n",
       "last    2015-05-20 00:00:00        NaN  "
      ]
     },
     "execution_count": 5,
     "metadata": {},
     "output_type": "execute_result"
    }
   ],
   "source": [
    "data.describe()"
   ]
  },
  {
   "cell_type": "code",
   "execution_count": 25,
   "metadata": {
    "collapsed": false
   },
   "outputs": [
    {
     "name": "stderr",
     "output_type": "stream",
     "text": [
      "/usr/local/lib/python2.7/site-packages/ipykernel/__main__.py:2: FutureWarning: sort is deprecated, use sort_values(inplace=True) for INPLACE sorting\n",
      "  from ipykernel import kernelapp as app\n"
     ]
    },
    {
     "data": {
      "text/plain": [
       "user_state\n",
       "New York      23\n",
       "California    21\n",
       "Texas         15\n",
       "Name: user_id, dtype: int64"
      ]
     },
     "execution_count": 25,
     "metadata": {},
     "output_type": "execute_result"
    }
   ],
   "source": [
    "states = data.groupby('user_state').user_id.nunique()\n",
    "states.sort(ascending=False)\n",
    "states[:3]"
   ]
  },
  {
   "cell_type": "code",
   "execution_count": 24,
   "metadata": {
    "collapsed": false
   },
   "outputs": [
    {
     "name": "stderr",
     "output_type": "stream",
     "text": [
      "/usr/local/lib/python2.7/site-packages/ipykernel/__main__.py:2: FutureWarning: sort is deprecated, use sort_values(inplace=True) for INPLACE sorting\n",
      "  from ipykernel import kernelapp as app\n"
     ]
    },
    {
     "data": {
      "text/plain": [
       "user_state\n",
       "Nebraska       36\n",
       "Alaska         29\n",
       "Mississippi    28\n",
       "dtype: int64"
      ]
     },
     "execution_count": 24,
     "metadata": {},
     "output_type": "execute_result"
    }
   ],
   "source": [
    "states = data.groupby('user_state').apply(lambda x: len(x.id.unique())  / len(x.user_id.unique()))\n",
    "states.sort(ascending=False)\n",
    "states[:3]"
   ]
  },
  {
   "cell_type": "markdown",
   "metadata": {},
   "source": [
    "## Recommendation"
   ]
  },
  {
   "cell_type": "code",
   "execution_count": 42,
   "metadata": {
    "collapsed": false
   },
   "outputs": [
    {
     "data": {
      "text/plain": [
       "<matplotlib.axes._subplots.AxesSubplot at 0x11471e150>"
      ]
     },
     "execution_count": 42,
     "metadata": {},
     "output_type": "execute_result"
    },
    {
     "data": {
      "image/png": "[encoded data removed]",
      "text/plain": [
       "<matplotlib.figure.Figure at 0x113ee3d10>"
      ]
     },
     "metadata": {},
     "output_type": "display_data"
    },
    {
     "data": {
      "image/png": "[encoded data removed]",
      "text/plain": [
       "<matplotlib.figure.Figure at 0x112a02650>"
      ]
     },
     "metadata": {},
     "output_type": "display_data"
    },
    {
     "data": {
      "image/png": "[encoded data removed]",
      "text/plain": [
       "<matplotlib.figure.Figure at 0x1146a1e90>"
      ]
     },
     "metadata": {},
     "output_type": "display_data"
    }
   ],
   "source": [
    "import matplotlib\n",
    "%matplotlib inline\n",
    "pd.DataFrame(data.groupby('song_played').size()).plot.kde()\n",
    "pd.DataFrame(data.groupby('user_id').song_played.nunique()).plot.kde()\n",
    "pd.DataFrame(data.groupby('user_id').song_played.count()).plot.kde()"
   ]
  },
  {
   "cell_type": "markdown",
   "metadata": {},
   "source": [
    "- Highly skewed (small number of songs are listened the most)\n",
    "- Users listen to the same song over and over\n",
    "\n",
    "\n",
    "- Approachs\n",
    "\n",
    "    - Baseline ( popularity )\n",
    "    - Probabilistic ( based P(listen a|listened b, x) )\n",
    "    - Collaborative filtering - user based ( based on \"rating\" estimate of set of similar users )\n",
    "    - Collaborative filtering - item based ( based on degree of similarity to other items )\n",
    "    - Matrix factorization ( U x I )\n",
    "    - With we had meta data: clustering into \"genres\", content based similarity. \n",
    "\n",
    "\n",
    "- TODO\n",
    "    - How to inspect useful features?\n",
    "    - Can we cluster users / songs in \"genre propensity\"?"
   ]
  },
  {
   "cell_type": "code",
   "execution_count": null,
   "metadata": {
    "collapsed": true
   },
   "outputs": [],
   "source": [
    "# prior = for each song: count(s) / total \n",
    "# for s in songs:\n",
    "#     for f in features:\n",
    "#         likelihood = ( count(f,s) + k ) / ( count(s) + k*count(distinct f) )"
   ]
  },
  {
   "cell_type": "code",
   "execution_count": 7,
   "metadata": {
    "collapsed": false
   },
   "outputs": [],
   "source": [
    "data['previous_song'] = data.sort_values(by='time_played').groupby('user_id').song_played.transform('shift', 1)\n",
    "data['previous_time'] = data.sort_values(by='time_played').groupby('user_id').time_played.transform('shift', 1)\n",
    "data['hour']          = data.time_played.dt.hour\n",
    "data['day']           = data.time_played.dt.dayofweek\n",
    "data['since_last']    = data.time_played - data.previous_time\n",
    "data['previous_song'] = data['previous_song'].fillna('_______')\n",
    "# fresh user?\n",
    "# popularity song over time\n",
    "# less weight when relistening?"
   ]
  },
  {
   "cell_type": "code",
   "execution_count": 8,
   "metadata": {
    "collapsed": false
   },
   "outputs": [
    {
     "data": {
      "text/html": [
       "<div>\n",
       "<table border=\"1\" class=\"dataframe\">\n",
       "  <thead>\n",
       "    <tr style=\"text-align: right;\">\n",
       "      <th></th>\n",
       "      <th>id</th>\n",
       "      <th>song_played</th>\n",
       "      <th>time_played</th>\n",
       "      <th>user_id</th>\n",
       "      <th>user_sign_up_date</th>\n",
       "      <th>user_state</th>\n",
       "      <th>previous_song</th>\n",
       "      <th>previous_time</th>\n",
       "      <th>hour</th>\n",
       "      <th>day</th>\n",
       "      <th>since_last</th>\n",
       "    </tr>\n",
       "  </thead>\n",
       "  <tbody>\n",
       "    <tr>\n",
       "      <th>3053</th>\n",
       "      <td>KKSBLIUDTP</td>\n",
       "      <td>Revolution</td>\n",
       "      <td>2015-06-01 14:06:23</td>\n",
       "      <td>122</td>\n",
       "      <td>2015-05-16</td>\n",
       "      <td>Louisiana</td>\n",
       "      <td>_______</td>\n",
       "      <td>NaT</td>\n",
       "      <td>14</td>\n",
       "      <td>0</td>\n",
       "      <td>NaT</td>\n",
       "    </tr>\n",
       "    <tr>\n",
       "      <th>1904</th>\n",
       "      <td>YYAFSKFFCP</td>\n",
       "      <td>Get Back</td>\n",
       "      <td>2015-06-01 17:38:00</td>\n",
       "      <td>122</td>\n",
       "      <td>2015-05-16</td>\n",
       "      <td>Louisiana</td>\n",
       "      <td>Revolution</td>\n",
       "      <td>2015-06-01 14:06:23</td>\n",
       "      <td>17</td>\n",
       "      <td>0</td>\n",
       "      <td>0 days 03:31:37</td>\n",
       "    </tr>\n",
       "    <tr>\n",
       "      <th>1994</th>\n",
       "      <td>TXZXXZLKZL</td>\n",
       "      <td>Reprise / Day in the Life</td>\n",
       "      <td>2015-06-02 22:32:25</td>\n",
       "      <td>122</td>\n",
       "      <td>2015-05-16</td>\n",
       "      <td>Louisiana</td>\n",
       "      <td>Get Back</td>\n",
       "      <td>2015-06-01 17:38:00</td>\n",
       "      <td>22</td>\n",
       "      <td>1</td>\n",
       "      <td>1 days 04:54:25</td>\n",
       "    </tr>\n",
       "    <tr>\n",
       "      <th>3995</th>\n",
       "      <td>MKVEXMRJGF</td>\n",
       "      <td>Paperback Writer</td>\n",
       "      <td>2015-06-03 08:26:26</td>\n",
       "      <td>122</td>\n",
       "      <td>2015-05-16</td>\n",
       "      <td>Louisiana</td>\n",
       "      <td>Reprise / Day in the Life</td>\n",
       "      <td>2015-06-02 22:32:25</td>\n",
       "      <td>8</td>\n",
       "      <td>2</td>\n",
       "      <td>0 days 09:54:01</td>\n",
       "    </tr>\n",
       "    <tr>\n",
       "      <th>3424</th>\n",
       "      <td>RWAYCFCHYJ</td>\n",
       "      <td>Birthday</td>\n",
       "      <td>2015-06-03 22:32:13</td>\n",
       "      <td>122</td>\n",
       "      <td>2015-05-16</td>\n",
       "      <td>Louisiana</td>\n",
       "      <td>Paperback Writer</td>\n",
       "      <td>2015-06-03 08:26:26</td>\n",
       "      <td>22</td>\n",
       "      <td>2</td>\n",
       "      <td>0 days 14:05:47</td>\n",
       "    </tr>\n",
       "  </tbody>\n",
       "</table>\n",
       "</div>"
      ],
      "text/plain": [
       "              id                song_played         time_played user_id  \\\n",
       "3053  KKSBLIUDTP                 Revolution 2015-06-01 14:06:23     122   \n",
       "1904  YYAFSKFFCP                   Get Back 2015-06-01 17:38:00     122   \n",
       "1994  TXZXXZLKZL  Reprise / Day in the Life 2015-06-02 22:32:25     122   \n",
       "3995  MKVEXMRJGF           Paperback Writer 2015-06-03 08:26:26     122   \n",
       "3424  RWAYCFCHYJ                   Birthday 2015-06-03 22:32:13     122   \n",
       "\n",
       "     user_sign_up_date user_state              previous_song  \\\n",
       "3053        2015-05-16  Louisiana                    _______   \n",
       "1904        2015-05-16  Louisiana                 Revolution   \n",
       "1994        2015-05-16  Louisiana                   Get Back   \n",
       "3995        2015-05-16  Louisiana  Reprise / Day in the Life   \n",
       "3424        2015-05-16  Louisiana           Paperback Writer   \n",
       "\n",
       "           previous_time  hour  day      since_last  \n",
       "3053                 NaT    14    0             NaT  \n",
       "1904 2015-06-01 14:06:23    17    0 0 days 03:31:37  \n",
       "1994 2015-06-01 17:38:00    22    1 1 days 04:54:25  \n",
       "3995 2015-06-02 22:32:25     8    2 0 days 09:54:01  \n",
       "3424 2015-06-03 08:26:26    22    2 0 days 14:05:47  "
      ]
     },
     "execution_count": 8,
     "metadata": {},
     "output_type": "execute_result"
    }
   ],
   "source": [
    "data[data.user_id == '122'].sort_values(by='time_played').head()"
   ]
  },
  {
   "cell_type": "code",
   "execution_count": 31,
   "metadata": {
    "collapsed": false
   },
   "outputs": [],
   "source": [
    "from sklearn.model_selection import *\n",
    "from sklearn.naive_bayes import BernoulliNB\n",
    "from operator import itemgetter\n",
    "from sklearn.preprocessing import *\n",
    "import numpy as np\n",
    "\n",
    "def evaluate(model, x, y, k=1):\n",
    "    scrs    = model.predict_proba(x)\n",
    "    results = []\n",
    "    for pred, _true in zip(scrs,y):\n",
    "        indexes = np.argsort(pred)[::-1]\n",
    "        results.append(_true in model.classes_[indexes[:k]])\n",
    "    return np.mean(results)\n",
    "        \n",
    "def do_train(x,y):\n",
    "    nb = BernoulliNB(alpha=1)\n",
    "    nb.fit(x, y)\n",
    "    return nb"
   ]
  },
  {
   "cell_type": "code",
   "execution_count": 10,
   "metadata": {
    "collapsed": false
   },
   "outputs": [],
   "source": [
    "data['previous_song']   = LabelEncoder().fit_transform(data['previous_song'])\n",
    "data['song_played_int'] = LabelEncoder().fit_transform(data['song_played'])\n",
    "data['user_state_int'] = LabelEncoder().fit_transform(data['user_state'])\n",
    "\n",
    "classes     = sorted(data['song_played'].unique())\n",
    "train, test = train_test_split(data, test_size=.1, random_state=41)\n",
    "\n",
    "features        = [ 'previous_song' ] # 'user_state', 'hour', 'day', since_last,\n",
    "x_train, x_test = train[features], test[features]\n",
    "y_train, y_test = train['song_played'], test['song_played']\n",
    "ohc = OneHotEncoder().fit(x_train)"
   ]
  },
  {
   "cell_type": "code",
   "execution_count": 32,
   "metadata": {
    "collapsed": false,
    "scrolled": false
   },
   "outputs": [
    {
     "data": {
      "text/plain": [
       "(0.38250000000000001, 0.26500000000000001, 0.105)"
      ]
     },
     "execution_count": 32,
     "metadata": {},
     "output_type": "execute_result"
    }
   ],
   "source": [
    "x_enc = ohc.transform(x_train)\n",
    "model   = do_train(x_enc, y_train)\n",
    "\n",
    "x_enc  = ohc.transform(x_test)\n",
    "(evaluate(model, x_enc, y_test, k=5),\n",
    " evaluate(model, x_enc, y_test, k=3),\n",
    " evaluate(model, x_enc, y_test, k=1))"
   ]
  },
  {
   "cell_type": "code",
   "execution_count": 33,
   "metadata": {
    "collapsed": false
   },
   "outputs": [
    {
     "data": {
      "text/plain": [
       "(0.37, 0.26750000000000002, 0.10249999999999999)"
      ]
     },
     "execution_count": 33,
     "metadata": {},
     "output_type": "execute_result"
    }
   ],
   "source": [
    "all_ = pd.merge(train, train[['user_id', 'song_played_int']], left_on='user_id', right_on='user_id')\n",
    "all_ = all_[all_.song_played_int_x != all_.song_played_int_y]\n",
    "\n",
    "features = [ 'song_played_int_y' ] # 'user_state', 'hour', 'day', since_last, \n",
    "x, y     = all_[features], all_['song_played']\n",
    "\n",
    "x_enc = ohc.transform(x)\n",
    "model = do_train(x_enc, y)\n",
    "\n",
    "x_enc  = ohc.transform(x_test)\n",
    "(evaluate(model, x_enc, y_test, k=5),\n",
    " evaluate(model, x_enc, y_test, k=3),\n",
    " evaluate(model, x_enc, y_test, k=1))"
   ]
  },
  {
   "cell_type": "code",
   "execution_count": 24,
   "metadata": {
    "collapsed": true
   },
   "outputs": [],
   "source": [
    "class Popularity():\n",
    "    def fit(self, train, y):\n",
    "        self.scores_ = y.value_counts() / y.shape[0]\n",
    "        self.classes_ = np.array(sorted(self.scores_.index))\n",
    "        self.preds_  = self.scores_[self.classes_].values\n",
    "\n",
    "    def predict_proba(self, df):\n",
    "        return [ self.preds_ for i in df.values ]"
   ]
  },
  {
   "cell_type": "code",
   "execution_count": 34,
   "metadata": {
    "collapsed": false,
    "scrolled": false
   },
   "outputs": [
    {
     "data": {
      "text/plain": [
       "(0.38250000000000001, 0.27000000000000002, 0.105)"
      ]
     },
     "execution_count": 34,
     "metadata": {},
     "output_type": "execute_result"
    }
   ],
   "source": [
    "model = Popularity()\n",
    "model.fit(x_train, y_train)\n",
    "\n",
    "(evaluate(model, x_test, y_test, k=5),\n",
    " evaluate(model, x_test, y_test, k=3),\n",
    " evaluate(model, x_test, y_test, k=1))"
   ]
  },
  {
   "cell_type": "code",
   "execution_count": null,
   "metadata": {
    "collapsed": true
   },
   "outputs": [],
   "source": []
  }
 ],
 "metadata": {
  "kernelspec": {
   "display_name": "Python 2",
   "language": "python",
   "name": "python2"
  },
  "language_info": {
   "codemirror_mode": {
    "name": "ipython",
    "version": 2
   },
   "file_extension": ".py",
   "mimetype": "text/x-python",
   "name": "python",
   "nbconvert_exporter": "python",
   "pygments_lexer": "ipython2",
   "version": "2.7.12"
  }
 },
 "nbformat": 4,
 "nbformat_minor": 0
}
